{
 "cells": [
  {
   "cell_type": "code",
   "execution_count": null,
   "id": "025e7151",
   "metadata": {},
   "outputs": [],
   "source": [
    "\n",
    "    print(\"   WELCOME TO ROCK PAPER SCISSORS GAME  \")\n",
    "    print(\" choose number of attempts = \")\n",
    "    attempt=int(input())\n"
   ]
  },
  {
   "cell_type": "code",
   "execution_count": null,
   "id": "4d407aeb",
   "metadata": {},
   "outputs": [],
   "source": [
    "option = ['rock','paper','scissors']\n"
   ]
  },
  {
   "cell_type": "code",
   "execution_count": null,
   "id": "113ebde6",
   "metadata": {},
   "outputs": [],
   "source": [
    "option = ['rock','paper','scissors']\n",
    "while attempt :\n",
    "    player1_wins =0\n",
    "    player2_wins =0\n",
    "    print('player 1 please enter your input ...Rock, Paper,Scissors')\n",
    "    player1=input(option).lower()\n",
    "    print('player 2 please enter your input ...Rock, Paper,Scissors')\n",
    "    player2=input(option).lower()\n",
    "    if player1=='rock' and player2=='scissors':\n",
    "        player1_wins += 1\n",
    "    if player2=='paper' and player2=='scissors':\n",
    "        player2_wins +=1\n",
    "    if player1 =='scissors' and player2 =='scissors':\n",
    "        player1_wins +=0\n",
    "        player2_wins +=0\n",
    "    if player2 =='rock' and player1 =='paper':\n",
    "        player2_wins +=1\n",
    "    if player1 == 'paper' and player2=='paper':\n",
    "        player1_wins +=0\n",
    "        player2_wins +=0\n",
    "    if player1 == 'scissors' and player2=='paper':\n",
    "        player1_wins +=1\n",
    "    if player1 =='rock' and player2 =='rock':\n",
    "        player1_wins +=0\n",
    "        player2_wins+=0\n",
    "    if player1 =='paper' and player2 == 'rock':\n",
    "        player1_wins +=1\n",
    "    if player1 =='scissors'and player2 == 'rock':\n",
    "        player2_wins +=1\n",
    "        \n",
    "    break\n",
    "    \n",
    "if player1_wins > player2_wins :\n",
    "        print(\"player1 wins\")\n",
    "elif player1_wins < player2_wins :\n",
    "        print(\"player2 wins\")\n",
    "else :\n",
    "        print(\"no one wins\")"
   ]
  },
  {
   "cell_type": "code",
   "execution_count": null,
   "id": "3f7c146b",
   "metadata": {},
   "outputs": [],
   "source": []
  }
 ],
 "metadata": {
  "kernelspec": {
   "display_name": "Python 3 (ipykernel)",
   "language": "python",
   "name": "python3"
  },
  "language_info": {
   "codemirror_mode": {
    "name": "ipython",
    "version": 3
   },
   "file_extension": ".py",
   "mimetype": "text/x-python",
   "name": "python",
   "nbconvert_exporter": "python",
   "pygments_lexer": "ipython3",
   "version": "3.10.4"
  }
 },
 "nbformat": 4,
 "nbformat_minor": 5
}
